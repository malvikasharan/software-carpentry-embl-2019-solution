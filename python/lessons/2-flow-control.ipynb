{
 "cells": [
  {
   "cell_type": "markdown",
   "metadata": {},
   "source": [
    "# Python session - 2\n",
    "\n",
    "## Flow Control statements\n",
    "\n",
    "Flow control statements allows Python to take a decision and do different things depending on different situations using `if` or `else` statements or `for` loops."
   ]
  },
  {
   "cell_type": "markdown",
   "metadata": {},
   "source": [
    "## if statements\n",
    "\n",
    "A few quick examples, before we go into the theory."
   ]
  },
  {
   "cell_type": "code",
   "execution_count": null,
   "metadata": {},
   "outputs": [],
   "source": [
    "temperature = 26\n",
    "\n",
    "# Check if the temperature is lower than 26\n",
    "if temperature < 50:\n",
    "    print('Warm weather')"
   ]
  },
  {
   "cell_type": "markdown",
   "metadata": {},
   "source": [
    "Now change the value of temparature for higher than 50 and rerun your code."
   ]
  },
  {
   "cell_type": "code",
   "execution_count": null,
   "metadata": {},
   "outputs": [],
   "source": []
  },
  {
   "cell_type": "markdown",
   "metadata": {},
   "source": [
    "# Indentation and semicolon\n",
    "\n",
    "temperature = 26\n",
    "\n",
    "````\n",
    "if temperature < 50:\n",
    ">>>>do something\n",
    "````\n",
    "\n",
    "4 spaces or a tab after 'if' statement is called indentation.\n",
    "\n",
    "Each indentation has a meaning, it makes the code written below the 'if' statement part of complete condition."
   ]
  },
  {
   "cell_type": "code",
   "execution_count": null,
   "metadata": {},
   "outputs": [],
   "source": [
    "temperature = 26 \n",
    "if temperature < 50:\n",
    "    print('Warm weather')\n",
    "    \n",
    "print(\"This is not part of the condition!\") #now this is not connected to the if statement"
   ]
  },
  {
   "cell_type": "markdown",
   "metadata": {},
   "source": [
    "## if/else statements"
   ]
  },
  {
   "cell_type": "raw",
   "metadata": {},
   "source": [
    "# Check multiple conditions\n",
    "\n",
    "temperature = 26\n",
    "    \n",
    "if temperature > 25: # check if the value is greater than 25\n",
    "    ''\n",
    "    #print(temperature)\n",
    "else:                # do something else if the value doesn't match the first (if) condition\n",
    "    ''\n",
    "    #print(temperature)"
   ]
  },
  {
   "cell_type": "code",
   "execution_count": null,
   "metadata": {},
   "outputs": [],
   "source": [
    "temperature = 26\n",
    "\n",
    "if temperature > 25:\n",
    "    print(...)\n",
    "else:\n",
    "    print(...)"
   ]
  },
  {
   "cell_type": "code",
   "execution_count": null,
   "metadata": {},
   "outputs": [],
   "source": [
    "# Change value of the temperature and run your code again again\n",
    "\n"
   ]
  },
  {
   "cell_type": "raw",
   "metadata": {},
   "source": [
    "# can we do something else rather than printing?\n",
    "\n",
    "temperature = 26\n",
    "\n",
    "if temperature < 50:\n",
    "    ''\n",
    "    # convert degree celcius to fahrenheit (Formula = (0°C × 9/5) + 32 = 32°F)"
   ]
  },
  {
   "cell_type": "code",
   "execution_count": null,
   "metadata": {},
   "outputs": [],
   "source": []
  },
  {
   "cell_type": "code",
   "execution_count": null,
   "metadata": {},
   "outputs": [],
   "source": [
    "temperature = 20\n",
    "if temperature > 25:\n",
    "    print('Warm weather')\n",
    "elif temperature <= 20:\n",
    "    print('Not very Warm')\n",
    "elif temperature == 20:\n",
    "    print('Pleasant weather')\n",
    "else:\n",
    "    print(\"Why aren't we talking about Global warming?\")"
   ]
  },
  {
   "cell_type": "markdown",
   "metadata": {},
   "source": [
    "## For loop\n",
    "\n",
    "The biggest motivation for researches to learn a programming language is the opportunity to automate repetitive tasks and analyses.\n",
    "\n",
    "For loops define a set of steps that will be carried out for all items in a sequence. The items in the sequence will be taken one-at-a-time, and the loop performed, until there are no more items to process."
   ]
  },
  {
   "cell_type": "code",
   "execution_count": null,
   "metadata": {},
   "outputs": [],
   "source": [
    "seasons = ['Spring', 'Summer', 'Autumn', 'Winter']\n",
    "# for season in ['Spring', 'Summer', 'Autumn', 'Winter']\n",
    "# print season entries one by one\n",
    "\n",
    "for season in ['Spring', 'Summer', 'Autumn', 'Winter']:\n",
    "    print(season)"
   ]
  },
  {
   "cell_type": "code",
   "execution_count": null,
   "metadata": {},
   "outputs": [],
   "source": [
    "#capitalize all the season\n",
    "\n",
    "for each_season in seasons:\n",
    "    ..."
   ]
  },
  {
   "cell_type": "markdown",
   "metadata": {},
   "source": [
    "## Conditionals - if, elif, else\n",
    "\n",
    "Looping allows you to perform a common set of operations on multiple pieces of data very quickly. But what if you want to treat the pieces differently, depending on some property or other of the objects?\n",
    "\n",
    "This is the other central part of programming: testing for certain circumstances and changing the treatment of pieces of data accordingly. \n",
    "\n",
    "It is known as flow control, as you are controlling the flow of data through your script of operations."
   ]
  },
  {
   "cell_type": "code",
   "execution_count": null,
   "metadata": {},
   "outputs": [],
   "source": [
    "temperature = 30\n",
    "\n",
    "if temperature > 25 and temperature < 35:\n",
    "    print('This is tolerable')\n",
    "elif temperature < 20:\n",
    "    print('Winter is coming')\n",
    "elif temperature == 20:\n",
    "    print('Temperature is 20')\n",
    "else:\n",
    "    print('this is not a temperature')"
   ]
  },
  {
   "cell_type": "markdown",
   "metadata": {},
   "source": [
    "## Combine For loops and if/elif/else statements"
   ]
  },
  {
   "cell_type": "code",
   "execution_count": null,
   "metadata": {},
   "outputs": [],
   "source": [
    "seasons = ['Spring', 'Summer', 'Autumn', 'Winter']\n",
    "\n",
    "# create a multi condition is/elif/else loop for the items in the list 'seasons'\n",
    "\n",
    "for each_season in seasons:\n",
    "    if each_season == 'Spring':\n",
    "        print(\"Season is Spring!\")\n",
    "    else:\n",
    "        print(\"Season is not Spring!\")"
   ]
  },
  {
   "cell_type": "markdown",
   "metadata": {},
   "source": [
    "## Adding even more conditions \n",
    "\n",
    "### Conditions inside conditions\n",
    "\n",
    "#### Option - 1: \n",
    "not so elegant nested if statements"
   ]
  },
  {
   "cell_type": "code",
   "execution_count": null,
   "metadata": {},
   "outputs": [],
   "source": [
    "if ...:\n",
    "    if ...:\n",
    "        ...\n",
    "    elif ...:\n",
    "        ...\n",
    "    else ...:\n",
    "        ...\n",
    "elif ...:\n",
    "    if ...:\n",
    "        ...\n",
    "    elif ...:\n",
    "        ...\n",
    "    else ...:\n",
    "        ...\n",
    "elif ...:\n",
    "    ...\n",
    "else:\n",
    "    ..."
   ]
  },
  {
   "cell_type": "markdown",
   "metadata": {},
   "source": [
    "#### Option - 2: \n",
    "connecting conditions by Boolean (and, or, not)"
   ]
  },
  {
   "cell_type": "code",
   "execution_count": null,
   "metadata": {},
   "outputs": [],
   "source": [
    "if ... and ...:\n",
    "    ...\n",
    "elif ...:\n",
    "    ...\n",
    "else:\n",
    "    ...\n"
   ]
  },
  {
   "cell_type": "code",
   "execution_count": 4,
   "metadata": {},
   "outputs": [
    {
     "name": "stdout",
     "output_type": "stream",
     "text": [
      "Indian summer in different months\n"
     ]
    }
   ],
   "source": [
    "# Give temperature a value < 25 and check what happens if you replace 'and' with 'or'\n",
    "# Note: English's *or* and Python's *or* are not always same.\n",
    "\n",
    "# connecting conditions by and and or\n",
    "\n",
    "temperature = 33\n",
    "rain = \"seldom\"  # Options: \"mostly\", \"a lot\", \"seldom\"\n",
    "\n",
    "if temperature > 20 and temperature < 30:\n",
    "    print('Summer in Europe')\n",
    "if temperature > 20 and rain == \"seldom\":\n",
    "    print('Summer in most of Europe')\n",
    "if temperature < 20 and rain == \"mostly\":\n",
    "    print('British summer')\n",
    "elif temperature > 30 or rain==\"a lot\":\n",
    "    print('Indian summer')\n",
    "else:\n",
    "    print('Plan your holidays well!')"
   ]
  },
  {
   "cell_type": "markdown",
   "metadata": {},
   "source": [
    "## Exercise - 2\n"
   ]
  },
  {
   "cell_type": "code",
   "execution_count": null,
   "metadata": {},
   "outputs": [],
   "source": [
    "# Check if a variable or data type for example, a list (my_list) exists (not empty)\n",
    "mylist = []\n",
    "\n",
    "if mylist:\n",
    "    print('True')\n",
    "else:\n",
    "    mylist.append('Myitem')"
   ]
  },
  {
   "cell_type": "code",
   "execution_count": null,
   "metadata": {},
   "outputs": [],
   "source": [
    "if mylist:\n",
    "    print('Now there is this list which was empty before')"
   ]
  },
  {
   "cell_type": "code",
   "execution_count": null,
   "metadata": {},
   "outputs": [],
   "source": [
    "# Check if an item exists in a string (hint: look for my_item in my_string)...\n",
    "# else print \"{} does not contain {}\".format(my_string, my_item)\n",
    "\n",
    "my_string = \"Whether you're new to programming or an experienced developer, it's easy to learn and use Python.\"\n",
    "my_item = \"Python\"\n",
    "\n",
    "if my_item in my_string:\n",
    "    print(\"{} exists!\".format(my_item))\n",
    "else:\n",
    "    print(\"{} does not contain {}\".format(my_string, my_item))"
   ]
  },
  {
   "cell_type": "code",
   "execution_count": 1,
   "metadata": {},
   "outputs": [
    {
     "name": "stdout",
     "output_type": "stream",
     "text": [
      "Perl exists!\n"
     ]
    }
   ],
   "source": [
    "# Check if an item 'does not' exist in a string (hint: look for my_item in my_string)...\n",
    "# else print \"{} contains {}\".format(my_string, my_item)\n",
    "\n",
    "my_string = \"Whether you're new to programming or an experienced developer, it's easy to learn and use Python.\"\n",
    "my_item = \"Perl\"\n",
    "\n",
    "if my_item not in my_string:\n",
    "    print(\"{} does not contain {}\".format(my_string, my_item))\n",
    "else:\n",
    "    print(\"{} exists!\".format(my_item))"
   ]
  },
  {
   "cell_type": "markdown",
   "metadata": {},
   "source": [
    "## Exercise - 3"
   ]
  },
  {
   "cell_type": "code",
   "execution_count": null,
   "metadata": {},
   "outputs": [],
   "source": [
    "# Given a list of items (shopping) check if a certain item (my_item) exists\n",
    "# else add that item to the list\n",
    "\n",
    "shopping = ['bread', 'potatoes', 'eggs', 'flour', 'rubber duck', 'pizza', 'milk']\n",
    "my_item = \"cheese\"\n",
    "\n",
    "if my_item in shopping:\n",
    "    print()(\"{} exists!\".format(my_item))\n",
    "else:\n",
    "    shopping.append(my_item)"
   ]
  },
  {
   "cell_type": "code",
   "execution_count": null,
   "metadata": {},
   "outputs": [],
   "source": [
    "# you can also check in something does not exist\n",
    "\n",
    "# if not my_item in shopping:"
   ]
  },
  {
   "cell_type": "markdown",
   "metadata": {},
   "source": [
    "## Exercise - 4"
   ]
  },
  {
   "cell_type": "code",
   "execution_count": null,
   "metadata": {},
   "outputs": [],
   "source": [
    "shopping = ['bread', 'potatoes', \n",
    "            'eggs', 'flour', \n",
    "            'rubber duck', 'pizza', \n",
    "            'milk']\n",
    "\n",
    "## printing each item in a list\n",
    "# print(shopping[0])\n",
    "# print(shopping[1])\n",
    "# print(shopping[2])\n",
    "# print(shopping[3])\n",
    "\n",
    "# using for loop iterate through the list and print each item\n",
    "for this_variable_could_be_anything in shopping:\n",
    "    print(this_variable_could_be_anything)"
   ]
  },
  {
   "cell_type": "markdown",
   "metadata": {},
   "source": [
    "## Exercise - 5"
   ]
  },
  {
   "cell_type": "code",
   "execution_count": null,
   "metadata": {},
   "outputs": [],
   "source": [
    "# use range to create a list of values\n",
    "range_list = range(1,5)"
   ]
  },
  {
   "cell_type": "code",
   "execution_count": null,
   "metadata": {},
   "outputs": [],
   "source": [
    "# print(range_list)\n",
    "# print(list(range_list))"
   ]
  },
  {
   "cell_type": "code",
   "execution_count": null,
   "metadata": {},
   "outputs": [],
   "source": [
    "# range generates a list of numbers, which is used to iterate over with for loops \n",
    "# to perform certain action X number of times.\n",
    "\n",
    "for loop_number in range_list:\n",
    "    print(loop_number)"
   ]
  },
  {
   "cell_type": "code",
   "execution_count": null,
   "metadata": {},
   "outputs": [],
   "source": [
    "# do some calculation with each entry (in range_list) and print it\n",
    "for loop_number in range_list:\n",
    "    print(loop_number*89+(78654/456))\n",
    "print(loop_number) # here the loop_number is only the last assigned value"
   ]
  },
  {
   "cell_type": "markdown",
   "metadata": {},
   "source": [
    "## Exercise - 6"
   ]
  },
  {
   "cell_type": "code",
   "execution_count": null,
   "metadata": {},
   "outputs": [],
   "source": [
    "shopping_dict = {'item-0': 'bread', 'item-1': 'potatoes', \n",
    "                 'item-2': 'eggs', 'item-3': 'flour', \n",
    "                 'item-4': 'rubber duck', 'item-5': 'pizza', \n",
    "                 'item-6': 'milk'}\n",
    "\n",
    "#Accessing items in the dictionary using key\n",
    "shopping_dict['item-0']\n",
    "shopping_dict['item-1']\n",
    "shopping_dict['item-2']\n",
    "\n",
    "# item in the left of ':' is key and in the right is value\n",
    "# it is like list, where the index is like key and item is a value\n",
    "# there is no index in dict\n"
   ]
  },
  {
   "cell_type": "code",
   "execution_count": null,
   "metadata": {},
   "outputs": [],
   "source": [
    "# iterate through each key and print its value\n",
    "\n",
    "for each_item in shopping_dict:\n",
    "    print(each_item)"
   ]
  },
  {
   "cell_type": "code",
   "execution_count": null,
   "metadata": {},
   "outputs": [],
   "source": [
    "# Hint: use the features .keys() .values() or .items()\n",
    "#'\\n' is used for creating an new line\n",
    "\n",
    "print(\"These are the keys:\\n\", shopping_dict.keys())\n",
    "print(\"\\nThese are the values:\\n\", shopping_dict.values())\n",
    "print(\"\\nThese are the items:\\n\", shopping_dict.items())"
   ]
  },
  {
   "cell_type": "code",
   "execution_count": null,
   "metadata": {},
   "outputs": [],
   "source": [
    "#using items\n",
    "for each_item in shopping_dict.items():\n",
    "    print(each_item) # print both key and value\n",
    "    print(each_item[1]) # print only value, think of [1] as index in a list"
   ]
  },
  {
   "cell_type": "code",
   "execution_count": null,
   "metadata": {},
   "outputs": [],
   "source": [
    "#using items, but assigning variables to both key and value\n",
    "for each_key, each_val in shopping_dict.items():\n",
    "    print(each_val)"
   ]
  },
  {
   "cell_type": "code",
   "execution_count": null,
   "metadata": {},
   "outputs": [],
   "source": [
    "#using keys\n",
    "for each_key in shopping_dict.keys():\n",
    "    print(shopping_dict[each_key])"
   ]
  },
  {
   "cell_type": "code",
   "execution_count": null,
   "metadata": {},
   "outputs": [],
   "source": [
    "for each_val in shopping_dict.values():\n",
    "    print(each_val)"
   ]
  },
  {
   "cell_type": "markdown",
   "metadata": {},
   "source": [
    "## Exercise - 7"
   ]
  },
  {
   "cell_type": "code",
   "execution_count": null,
   "metadata": {},
   "outputs": [],
   "source": [
    "shopping = ['bread', 'potatoes', \n",
    "            'eggs', 'flour', \n",
    "            'rubber duck', 'pizza', \n",
    "            'milk']\n",
    "extrashopping = ['cheese', 'flour', \n",
    "                 'eggs', 'spaghetti', \n",
    "                 'sausages', 'bread']\n",
    "# iterate through each item in the list extrashopping \n",
    "for item in extrashopping:\n",
    "    # if it is not in the list shopping then add it\n",
    "    if item not in shopping:\n",
    "        shopping.append(item)\n",
    "\n",
    "# print the new list shopping\n",
    "print(shopping)"
   ]
  },
  {
   "cell_type": "markdown",
   "metadata": {},
   "source": [
    "## Exercise - 8"
   ]
  },
  {
   "cell_type": "code",
   "execution_count": null,
   "metadata": {},
   "outputs": [],
   "source": [
    "shopping = ['bread', 'potatoes', \n",
    "            'eggs', 'flour', \n",
    "            'rubber duck', 'pizza', \n",
    "            'milk']\n",
    "extrashopping = ['cheese', 'flour', \n",
    "                 'eggs', 'spaghetti', \n",
    "                 'sausages', 'bread']\n",
    "\n",
    "# Combining lists\n",
    "all_items = shopping + extrashopping\n",
    "\n",
    "# remove redundancy using set()\n",
    "unique_items = set(all_items)\n",
    "\n",
    "# iterate through unique_items and print each item\n",
    "for each_uniq_item in unique_items:\n",
    "    print(each_uniq_item)"
   ]
  },
  {
   "cell_type": "markdown",
   "metadata": {},
   "source": [
    "## Exercise - 9"
   ]
  },
  {
   "cell_type": "code",
   "execution_count": null,
   "metadata": {},
   "outputs": [],
   "source": [
    "# (i) Change the program above to print out a message when a duplicate item is found in the list 'all_items'. \n",
    "# To do this, you could add another if statement to see if the item is in a new list. \n",
    "# Alternatively, you can add an else: clause to the existing if statement. \n",
    "# This will be executed when the condition in the if statement is false.\n",
    "\n",
    "uniq_item_list = [] #create empty list\n",
    "for each_item in all_items:\n",
    "    if each_item in uniq_item_list:\n",
    "        print(\"{} exists!\".format(each_item))\n",
    "    else:\n",
    "        uniq_item_list.append(each_item)"
   ]
  },
  {
   "cell_type": "markdown",
   "metadata": {},
   "source": [
    "(ii) The example illustrated above is not the only solution to adding items to a list, whilst checking for duplicates. From the three choices below, choose the version that would achieve the same goal:\n",
    "\n",
    "a)\n",
    "\n",
    "```\n",
    "shopping = ['bread', 'potatoes', \n",
    "            'eggs', 'flour', \n",
    "            'rubber duck', 'pizza', \n",
    "            'milk']\n",
    "extrashopping = ['cheese', 'flour', \n",
    "                 'eggs', 'spaghetti', \n",
    "                 'sausages', 'bread']\n",
    "for item in extrashopping:\n",
    "    if item not in shopping:   \n",
    "        print(item, \"is already in the list.\")\n",
    "    else: \n",
    "        shopping.append(item)\n",
    "print(shopping)\n",
    "```\n",
    "\n",
    "b)\n",
    "\n",
    "```\n",
    "shopping = ['bread', 'potatoes', \n",
    "            'eggs', 'flour', \n",
    "            'rubber duck', 'pizza', \n",
    "            'milk']\n",
    "extrashopping = ['cheese', 'flour', \n",
    "                 'eggs', 'spaghetti', \n",
    "                 'sausages', 'bread']\n",
    "for item in extrashopping:\n",
    "    if item in shopping:\n",
    "        shopping.append(item)\n",
    "    else: \n",
    "        print(item, \"is already in the list.\")\n",
    "print(shopping)\n",
    "```\n",
    "\n",
    "c)\n",
    "\n",
    "```\n",
    "shopping = ['bread', 'potatoes', \n",
    "            'eggs', 'flour', \n",
    "            'rubber duck', 'pizza', \n",
    "            'milk']\n",
    "extrashopping = ['cheese', 'flour', \n",
    "                 'eggs', 'spaghetti', \n",
    "                 'sausages', 'bread']\n",
    "for item in extrashopping:\n",
    "    if item in shopping:\n",
    "        print(item, \"is already in the list.\")\n",
    "    else: \n",
    "        shopping.append(item)\n",
    "print(shopping)\n",
    "```"
   ]
  },
  {
   "cell_type": "markdown",
   "metadata": {
    "collapsed": true
   },
   "source": [
    "## Exercise - 10"
   ]
  },
  {
   "cell_type": "code",
   "execution_count": null,
   "metadata": {},
   "outputs": [],
   "source": [
    "''' In the example below, we have changed the program so it prints out a formatted message \n",
    "for each of the items in the shopping list along with the amount that needs to be bought \n",
    "of that item. Parts of the program are missing. You need to fill them in '''\n",
    "\n",
    "shopping = ['bread', 'potatoes', 'eggs', 'flour', 'rubber duck', 'pizza', 'milk']\n",
    "amounts = ['1', '10', '12', '1', '2', '5', '1']\n",
    "for i in range(len(shopping)):\n",
    "    s = 'I need to buy {} {}'.format(amounts[i], shopping[i])\n",
    "    print(s)"
   ]
  },
  {
   "cell_type": "code",
   "execution_count": null,
   "metadata": {},
   "outputs": [],
   "source": []
  }
 ],
 "metadata": {
  "kernelspec": {
   "display_name": "Python 3",
   "language": "python",
   "name": "python3"
  },
  "language_info": {
   "codemirror_mode": {
    "name": "ipython",
    "version": 3
   },
   "file_extension": ".py",
   "mimetype": "text/x-python",
   "name": "python",
   "nbconvert_exporter": "python",
   "pygments_lexer": "ipython3",
   "version": "3.7.4"
  }
 },
 "nbformat": 4,
 "nbformat_minor": 1
}
