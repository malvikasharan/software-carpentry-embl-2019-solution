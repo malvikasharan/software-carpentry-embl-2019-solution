{
 "cells": [
  {
   "cell_type": "markdown",
   "metadata": {},
   "source": [
    "# Python session - 3.2\n",
    "\n",
    "## Pandas DataFrames\n",
    "\n",
    "https://swcarpentry.github.io/python-novice-gapminder/08-data-frames/\n",
    "\n",
    "#### Questions\n",
    "- How can I do statistical analysis of tabular data?\n",
    "\n",
    "#### Objectives\n",
    "- Select individual values from a Pandas dataframe.\n",
    "- Select entire rows or entire columns from a dataframe.\n",
    "- Select a subset of both rows and columns from a dataframe in a single operation.\n",
    "- Select a subset of a dataframe by a single Boolean criterion."
   ]
  },
  {
   "cell_type": "markdown",
   "metadata": {},
   "source": [
    "#### First note about Pandas DataFrames/Series\n",
    "\n",
    "A `DataFrame` is a collection of `Series`; The `DataFrame` is the way Pandas represents a table, and `Series` is the data-structure Pandas uses to represent a column.\n",
    "\n",
    "Pandas is built on top of the Numpy library, which in practice means that most of the methods defined for Numpy's Arrays apply to Pandas' `Series`/`DataFrames`.\n",
    "\n",
    "What makes Pandas so attractive is the powerful interface to access individual records of the table, proper handling of missing values, and relational-databases operations between `DataFrames`."
   ]
  },
  {
   "cell_type": "markdown",
   "metadata": {},
   "source": [
    "#### Use `DataFrame.iloc[..., ...]` to select values by numerical index\n",
    "\n",
    "Can specify location by numerical index analogously to 2D version of character selection in strings."
   ]
  },
  {
   "cell_type": "code",
   "execution_count": 6,
   "metadata": {},
   "outputs": [
    {
     "data": {
      "text/html": [
       "<div>\n",
       "<table border=\"1\" class=\"dataframe\">\n",
       "  <thead>\n",
       "    <tr style=\"text-align: right;\">\n",
       "      <th></th>\n",
       "      <th>gdpPercap_1952</th>\n",
       "      <th>gdpPercap_1957</th>\n",
       "      <th>gdpPercap_1962</th>\n",
       "      <th>gdpPercap_1967</th>\n",
       "      <th>gdpPercap_1972</th>\n",
       "      <th>gdpPercap_1977</th>\n",
       "      <th>gdpPercap_1982</th>\n",
       "      <th>gdpPercap_1987</th>\n",
       "      <th>gdpPercap_1992</th>\n",
       "      <th>gdpPercap_1997</th>\n",
       "      <th>gdpPercap_2002</th>\n",
       "      <th>gdpPercap_2007</th>\n",
       "    </tr>\n",
       "  </thead>\n",
       "  <tbody>\n",
       "    <tr>\n",
       "      <th>count</th>\n",
       "      <td>4.000000</td>\n",
       "      <td>4.000000</td>\n",
       "      <td>4.000000</td>\n",
       "      <td>4.000000</td>\n",
       "      <td>4.000000</td>\n",
       "      <td>4.000000</td>\n",
       "      <td>4.000000</td>\n",
       "      <td>4.000000</td>\n",
       "      <td>4.000000</td>\n",
       "      <td>4.000000</td>\n",
       "      <td>4.000000</td>\n",
       "      <td>4.000000</td>\n",
       "    </tr>\n",
       "    <tr>\n",
       "      <th>mean</th>\n",
       "      <td>2646.995638</td>\n",
       "      <td>3395.676500</td>\n",
       "      <td>4429.657384</td>\n",
       "      <td>5389.896686</td>\n",
       "      <td>6981.852093</td>\n",
       "      <td>9571.985896</td>\n",
       "      <td>9327.811925</td>\n",
       "      <td>9752.205579</td>\n",
       "      <td>9105.300015</td>\n",
       "      <td>10112.936864</td>\n",
       "      <td>11184.180116</td>\n",
       "      <td>14378.883438</td>\n",
       "    </tr>\n",
       "    <tr>\n",
       "      <th>std</th>\n",
       "      <td>1602.819029</td>\n",
       "      <td>2371.110966</td>\n",
       "      <td>3209.295533</td>\n",
       "      <td>3518.770347</td>\n",
       "      <td>4414.876267</td>\n",
       "      <td>6218.162600</td>\n",
       "      <td>6658.906301</td>\n",
       "      <td>8191.188436</td>\n",
       "      <td>10772.851560</td>\n",
       "      <td>12576.345406</td>\n",
       "      <td>13136.645424</td>\n",
       "      <td>17403.877110</td>\n",
       "    </tr>\n",
       "    <tr>\n",
       "      <th>min</th>\n",
       "      <td>368.469286</td>\n",
       "      <td>434.038336</td>\n",
       "      <td>496.913648</td>\n",
       "      <td>523.432314</td>\n",
       "      <td>421.624026</td>\n",
       "      <td>524.972183</td>\n",
       "      <td>624.475478</td>\n",
       "      <td>683.895573</td>\n",
       "      <td>682.303175</td>\n",
       "      <td>734.285170</td>\n",
       "      <td>896.226015</td>\n",
       "      <td>1713.778686</td>\n",
       "    </tr>\n",
       "    <tr>\n",
       "      <th>25%</th>\n",
       "      <td>2368.611823</td>\n",
       "      <td>2576.202816</td>\n",
       "      <td>3264.725763</td>\n",
       "      <td>4560.906932</td>\n",
       "      <td>6342.352115</td>\n",
       "      <td>8520.848983</td>\n",
       "      <td>5862.369821</td>\n",
       "      <td>5153.134922</td>\n",
       "      <td>2979.806309</td>\n",
       "      <td>2490.751139</td>\n",
       "      <td>3517.094488</td>\n",
       "      <td>3781.741101</td>\n",
       "    </tr>\n",
       "    <tr>\n",
       "      <th>50%</th>\n",
       "      <td>3044.873605</td>\n",
       "      <td>3459.667050</td>\n",
       "      <td>4439.989037</td>\n",
       "      <td>6052.347309</td>\n",
       "      <td>8945.982870</td>\n",
       "      <td>11537.368165</td>\n",
       "      <td>11063.120856</td>\n",
       "      <td>9143.227026</td>\n",
       "      <td>5490.646937</td>\n",
       "      <td>5669.915048</td>\n",
       "      <td>6815.739643</td>\n",
       "      <td>8038.388198</td>\n",
       "    </tr>\n",
       "    <tr>\n",
       "      <th>75%</th>\n",
       "      <td>3323.257421</td>\n",
       "      <td>4279.140733</td>\n",
       "      <td>5604.920658</td>\n",
       "      <td>6881.337063</td>\n",
       "      <td>9585.482849</td>\n",
       "      <td>12588.505077</td>\n",
       "      <td>14528.562960</td>\n",
       "      <td>13742.297683</td>\n",
       "      <td>11616.140643</td>\n",
       "      <td>13292.100773</td>\n",
       "      <td>14482.825271</td>\n",
       "      <td>18635.530535</td>\n",
       "    </tr>\n",
       "    <tr>\n",
       "      <th>max</th>\n",
       "      <td>4129.766056</td>\n",
       "      <td>6229.333562</td>\n",
       "      <td>8341.737815</td>\n",
       "      <td>8931.459811</td>\n",
       "      <td>9613.818607</td>\n",
       "      <td>14688.235070</td>\n",
       "      <td>14560.530510</td>\n",
       "      <td>20038.472690</td>\n",
       "      <td>24757.603010</td>\n",
       "      <td>28377.632190</td>\n",
       "      <td>30209.015160</td>\n",
       "      <td>39724.978670</td>\n",
       "    </tr>\n",
       "  </tbody>\n",
       "</table>\n",
       "</div>"
      ],
      "text/plain": [
       "       gdpPercap_1952  gdpPercap_1957  gdpPercap_1962  gdpPercap_1967  \\\n",
       "count        4.000000        4.000000        4.000000        4.000000   \n",
       "mean      2646.995638     3395.676500     4429.657384     5389.896686   \n",
       "std       1602.819029     2371.110966     3209.295533     3518.770347   \n",
       "min        368.469286      434.038336      496.913648      523.432314   \n",
       "25%       2368.611823     2576.202816     3264.725763     4560.906932   \n",
       "50%       3044.873605     3459.667050     4439.989037     6052.347309   \n",
       "75%       3323.257421     4279.140733     5604.920658     6881.337063   \n",
       "max       4129.766056     6229.333562     8341.737815     8931.459811   \n",
       "\n",
       "       gdpPercap_1972  gdpPercap_1977  gdpPercap_1982  gdpPercap_1987  \\\n",
       "count        4.000000        4.000000        4.000000        4.000000   \n",
       "mean      6981.852093     9571.985896     9327.811925     9752.205579   \n",
       "std       4414.876267     6218.162600     6658.906301     8191.188436   \n",
       "min        421.624026      524.972183      624.475478      683.895573   \n",
       "25%       6342.352115     8520.848983     5862.369821     5153.134922   \n",
       "50%       8945.982870    11537.368165    11063.120856     9143.227026   \n",
       "75%       9585.482849    12588.505077    14528.562960    13742.297683   \n",
       "max       9613.818607    14688.235070    14560.530510    20038.472690   \n",
       "\n",
       "       gdpPercap_1992  gdpPercap_1997  gdpPercap_2002  gdpPercap_2007  \n",
       "count        4.000000        4.000000        4.000000        4.000000  \n",
       "mean      9105.300015    10112.936864    11184.180116    14378.883438  \n",
       "std      10772.851560    12576.345406    13136.645424    17403.877110  \n",
       "min        682.303175      734.285170      896.226015     1713.778686  \n",
       "25%       2979.806309     2490.751139     3517.094488     3781.741101  \n",
       "50%       5490.646937     5669.915048     6815.739643     8038.388198  \n",
       "75%      11616.140643    13292.100773    14482.825271    18635.530535  \n",
       "max      24757.603010    28377.632190    30209.015160    39724.978670  "
      ]
     },
     "execution_count": 6,
     "metadata": {},
     "output_type": "execute_result"
    }
   ],
   "source": [
    "import pandas\n",
    "\n",
    "#Hints:\n",
    "#index_col='country'\n",
    "#data.iloc[0, 0]\n",
    "\n",
    "# read file, make 'country' as an index for the column\n",
    "df = pandas.read_csv(\"data/gapminder_gdp_asia.csv\", index_col = 'country')\n",
    "\n",
    "# index of the indexes of the locations or rows: iloc\n",
    "df.iloc[0, 1]\n",
    "\n",
    "#similar to the columns, a list of indexes of rows can be passed\n",
    "df.iloc[range(1,6)]\n",
    "\n",
    "#the left side of , inside the square bracket is used for rows and right side is for column\n",
    "\n",
    "# get value from the first cell\n",
    "df.iloc[0, 0]\n",
    "\n",
    "# get values from multiple cells\n",
    "df.iloc[range(1,6), range(1,6)]\n",
    "\n",
    "# get all the rows but a few columns\n",
    "df.iloc[:, [3, 5, 8, 9]]\n",
    "\n",
    "# get all the columns but a few rows\n",
    "df.iloc[[3, 5, 8, 9], :]\n",
    "\n",
    "# in the last commands, ':' represents slicing\n",
    "#: with a number defines where to slice, but without number it takes everything\n",
    "\n",
    "#save the subset (sliced_data) in a variable\n",
    "sliced_data = df.iloc[[3, 5, 8, 9], :]\n",
    "\n",
    "#get statistics of the sliced data\n",
    "sliced_data.describe()\n"
   ]
  },
  {
   "cell_type": "markdown",
   "metadata": {},
   "source": [
    "#### Use `DataFrame.loc[..., ...]` to select values by names.\n",
    "\n",
    "Can specify location by row name analogously to 2D version of dictionary keys."
   ]
  },
  {
   "cell_type": "code",
   "execution_count": 9,
   "metadata": {},
   "outputs": [
    {
     "data": {
      "text/plain": [
       "546.56574929999999"
      ]
     },
     "execution_count": 9,
     "metadata": {},
     "output_type": "execute_result"
    }
   ],
   "source": [
    "# Using asia data here\n",
    "# data.loc[\"India\", \"gdpPercap_1952\"]\n",
    "\n",
    "data = pandas.read_csv(\"data/gapminder_gdp_asia.csv\", index_col='country')\n",
    "\n",
    "data.loc[\"India\", \"gdpPercap_1952\"]\n",
    "\n",
    "# loc is like iloc, but using iloc, you can give index number for bothe rows and columns\n",
    "# whereas for loc, you have to use keys/index names\n",
    "\n",
    "# again, in the left side of a ',' inside the square bracket is reserved for rows, but the rightside is for columns"
   ]
  },
  {
   "cell_type": "markdown",
   "metadata": {},
   "source": [
    "#### Use `:` on its own to mean all columns or all rows.\n",
    "\n",
    "Just like Python’s usual slicing notation."
   ]
  },
  {
   "cell_type": "code",
   "execution_count": 16,
   "metadata": {},
   "outputs": [
    {
     "data": {
      "text/plain": [
       "gdpPercap_1952     400.448611\n",
       "gdpPercap_1957     575.987001\n",
       "gdpPercap_1962     487.674018\n",
       "gdpPercap_1967     612.705693\n",
       "gdpPercap_1972     676.900092\n",
       "gdpPercap_1977     741.237470\n",
       "gdpPercap_1982     962.421380\n",
       "gdpPercap_1987    1378.904018\n",
       "gdpPercap_1992    1655.784158\n",
       "gdpPercap_1997    2289.234136\n",
       "gdpPercap_2002    3119.280896\n",
       "gdpPercap_2007    4959.114854\n",
       "Name: China, dtype: float64"
      ]
     },
     "execution_count": 16,
     "metadata": {},
     "output_type": "execute_result"
    }
   ],
   "source": [
    "# Slice by \"China\", :\n",
    "\n",
    "data.loc['China', :]"
   ]
  },
  {
   "cell_type": "code",
   "execution_count": 17,
   "metadata": {},
   "outputs": [
    {
     "data": {
      "text/plain": [
       "gdpPercap_1952     400.448611\n",
       "gdpPercap_1957     575.987001\n",
       "gdpPercap_1962     487.674018\n",
       "gdpPercap_1967     612.705693\n",
       "gdpPercap_1972     676.900092\n",
       "gdpPercap_1977     741.237470\n",
       "gdpPercap_1982     962.421380\n",
       "gdpPercap_1987    1378.904018\n",
       "gdpPercap_1992    1655.784158\n",
       "gdpPercap_1997    2289.234136\n",
       "gdpPercap_2002    3119.280896\n",
       "gdpPercap_2007    4959.114854\n",
       "Name: China, dtype: float64"
      ]
     },
     "execution_count": 17,
     "metadata": {},
     "output_type": "execute_result"
    }
   ],
   "source": [
    "# Would get the same result printing data.loc[\"China\"] (without a second index).\n",
    "\n",
    "data.loc[\"China\"]"
   ]
  },
  {
   "cell_type": "code",
   "execution_count": 23,
   "metadata": {},
   "outputs": [
    {
     "data": {
      "text/plain": [
       "country\n",
       "Afghanistan              779.445314\n",
       "Bahrain                 9867.084765\n",
       "Bangladesh               684.244172\n",
       "Cambodia                 368.469286\n",
       "China                    400.448611\n",
       "Hong Kong China         3054.421209\n",
       "India                    546.565749\n",
       "Indonesia                749.681655\n",
       "Iran                    3035.326002\n",
       "Iraq                    4129.766056\n",
       "Israel                  4086.522128\n",
       "Japan                   3216.956347\n",
       "Jordan                  1546.907807\n",
       "Korea Dem. Rep.         1088.277758\n",
       "Korea Rep.              1030.592226\n",
       "Kuwait                108382.352900\n",
       "Lebanon                 4834.804067\n",
       "Malaysia                1831.132894\n",
       "Mongolia                 786.566857\n",
       "Myanmar                  331.000000\n",
       "Nepal                    545.865723\n",
       "Oman                    1828.230307\n",
       "Pakistan                 684.597144\n",
       "Philippines             1272.880995\n",
       "Saudi Arabia            6459.554823\n",
       "Singapore               2315.138227\n",
       "Sri Lanka               1083.532030\n",
       "Syria                   1643.485354\n",
       "Taiwan                  1206.947913\n",
       "Thailand                 757.797418\n",
       "Vietnam                  605.066492\n",
       "West Bank and Gaza      1515.592329\n",
       "Yemen Rep.               781.717576\n",
       "Name: gdpPercap_1952, dtype: float64"
      ]
     },
     "execution_count": 23,
     "metadata": {},
     "output_type": "execute_result"
    }
   ],
   "source": [
    "# Would get a column data[\"gdpPercap_1952\"]\n",
    "\n",
    "data[\"gdpPercap_1952\"]\n",
    "\n",
    "# Also get the same result printing data.gdpPercap_1952 (since it’s a column name)\n",
    "data.gdpPercap_1952 "
   ]
  },
  {
   "cell_type": "markdown",
   "metadata": {},
   "source": [
    "#### Select multiple columns or rows using `DataFrame.loc` and a named slice"
   ]
  },
  {
   "cell_type": "code",
   "execution_count": 24,
   "metadata": {},
   "outputs": [],
   "source": [
    "# slice India to Israel, and include all columns by ':'\n",
    "subset1 = data.loc['India':'Israel', :] \n",
    "\n",
    "# take all the rows and get data from 1972 to 1982\n",
    "subset2 = data.loc[:, 'gdpPercap_1972':'gdpPercap_1982'] \n",
    "\n",
    "# slice rows, India to Israel, and columns, 1972 to 1982\n",
    "subset3 = data.loc['India':'Israel', 'gdpPercap_1972':'gdpPercap_1982']\n",
    "\n",
    "# in . all the cases, I have saved my subsets in different variables"
   ]
  },
  {
   "cell_type": "markdown",
   "metadata": {},
   "source": [
    "In the above code, we discover that slicing using loc is inclusive at both ends, which differs from slicing using iloc, where slicing indicates everything up to but not including the final index."
   ]
  },
  {
   "cell_type": "markdown",
   "metadata": {},
   "source": [
    "#### Result of slicing can be used in further operations\n",
    "\n",
    "- Usually don’t just print a slice.\n",
    "- All the statistical operators that work on entire dataframes work the same way on slices.\n",
    "    - E.g., calculate max of a slice."
   ]
  },
  {
   "cell_type": "code",
   "execution_count": 27,
   "metadata": {},
   "outputs": [
    {
     "data": {
      "text/plain": [
       "12786.93223"
      ]
     },
     "execution_count": 27,
     "metadata": {},
     "output_type": "execute_result"
    }
   ],
   "source": [
    "subset4 = subset3.max()\n",
    "subset4.min()"
   ]
  },
  {
   "cell_type": "code",
   "execution_count": 29,
   "metadata": {},
   "outputs": [
    {
     "data": {
      "text/plain": [
       "'Afghanistan,978.0114388000001\\nBahrain,19211.14731\\nBangladesh,676.9818656\\nCambodia,624.4754784\\nChina,962.4213804999999\\nHong Kong China,14560.530509999999\\nIndia,855.7235377000001\\nIndonesia,1516.872988\\nIran,7608.334602\\nIraq,14517.90711\\nIsrael,15367.0292\\nJapan,19384.10571\\nJordan,4161.415959\\nKorea Dem. Rep.,4106.525293\\nKorea Rep.,5622.942464\\nKuwait,31354.03573\\nLebanon,7640.519520999999\\nMalaysia,4920.355951\\nMongolia,2000.603139\\nMyanmar,424.0\\nNepal,718.3730947\\nOman,12954.791009999999\\nPakistan,1443.429832\\nPhilippines,2603.273765\\nSaudi Arabia,33693.17525\\nSingapore,15169.161119999999\\nSri Lanka,1648.0797890000001\\nSyria,3761.8377149999997\\nTaiwan,7426.354773999999\\nThailand,2393.219781\\nVietnam,707.2357863\\nWest Bank and Gaza,4336.032082\\nYemen Rep.,1977.5570100000002\\n'"
      ]
     },
     "execution_count": 29,
     "metadata": {},
     "output_type": "execute_result"
    }
   ],
   "source": [
    "# you can do multiple operations on your dataframe or its subset\n",
    "\n",
    "subset3.T.iloc[-1].to_csv('test_subset.csv')"
   ]
  },
  {
   "cell_type": "markdown",
   "metadata": {},
   "source": [
    "#### Use comparisons to select data based on value\n",
    "\n",
    "- Comparison is applied element by element.\n",
    "- Returns a similarly-shaped dataframe of True and False."
   ]
  },
  {
   "cell_type": "code",
   "execution_count": 31,
   "metadata": {},
   "outputs": [
    {
     "data": {
      "text/html": [
       "<div>\n",
       "<table border=\"1\" class=\"dataframe\">\n",
       "  <thead>\n",
       "    <tr style=\"text-align: right;\">\n",
       "      <th></th>\n",
       "      <th>gdpPercap_1972</th>\n",
       "      <th>gdpPercap_1977</th>\n",
       "      <th>gdpPercap_1982</th>\n",
       "    </tr>\n",
       "    <tr>\n",
       "      <th>country</th>\n",
       "      <th></th>\n",
       "      <th></th>\n",
       "      <th></th>\n",
       "    </tr>\n",
       "  </thead>\n",
       "  <tbody>\n",
       "    <tr>\n",
       "      <th>India</th>\n",
       "      <td>False</td>\n",
       "      <td>False</td>\n",
       "      <td>False</td>\n",
       "    </tr>\n",
       "    <tr>\n",
       "      <th>Indonesia</th>\n",
       "      <td>False</td>\n",
       "      <td>False</td>\n",
       "      <td>False</td>\n",
       "    </tr>\n",
       "    <tr>\n",
       "      <th>Iran</th>\n",
       "      <td>False</td>\n",
       "      <td>True</td>\n",
       "      <td>False</td>\n",
       "    </tr>\n",
       "    <tr>\n",
       "      <th>Iraq</th>\n",
       "      <td>False</td>\n",
       "      <td>True</td>\n",
       "      <td>True</td>\n",
       "    </tr>\n",
       "    <tr>\n",
       "      <th>Israel</th>\n",
       "      <td>True</td>\n",
       "      <td>True</td>\n",
       "      <td>True</td>\n",
       "    </tr>\n",
       "  </tbody>\n",
       "</table>\n",
       "</div>"
      ],
      "text/plain": [
       "          gdpPercap_1972 gdpPercap_1977 gdpPercap_1982\n",
       "country                                               \n",
       "India              False          False          False\n",
       "Indonesia          False          False          False\n",
       "Iran               False           True          False\n",
       "Iraq               False           True           True\n",
       "Israel              True           True           True"
      ]
     },
     "execution_count": 31,
     "metadata": {},
     "output_type": "execute_result"
    }
   ],
   "source": [
    "# Use a subset of data to keep output readable.\n",
    "subset3 #saved in my previous computation\n",
    "\n",
    "# Which values were greater than 10000 ?\n",
    "subset3>10000"
   ]
  },
  {
   "cell_type": "markdown",
   "metadata": {},
   "source": [
    "#### Select values or NaN using a Boolean mask.\n",
    "\n",
    "- A frame full of Booleans is sometimes called a mask because of how it can be used."
   ]
  },
  {
   "cell_type": "code",
   "execution_count": 34,
   "metadata": {},
   "outputs": [
    {
     "data": {
      "text/html": [
       "<div>\n",
       "<table border=\"1\" class=\"dataframe\">\n",
       "  <thead>\n",
       "    <tr style=\"text-align: right;\">\n",
       "      <th></th>\n",
       "      <th>gdpPercap_1972</th>\n",
       "      <th>gdpPercap_1977</th>\n",
       "      <th>gdpPercap_1982</th>\n",
       "    </tr>\n",
       "  </thead>\n",
       "  <tbody>\n",
       "    <tr>\n",
       "      <th>count</th>\n",
       "      <td>1.00000</td>\n",
       "      <td>3.000000</td>\n",
       "      <td>2.000000</td>\n",
       "    </tr>\n",
       "    <tr>\n",
       "      <th>mean</th>\n",
       "      <td>12786.93223</td>\n",
       "      <td>13294.483120</td>\n",
       "      <td>14942.468155</td>\n",
       "    </tr>\n",
       "    <tr>\n",
       "      <th>std</th>\n",
       "      <td>NaN</td>\n",
       "      <td>1399.859451</td>\n",
       "      <td>600.419988</td>\n",
       "    </tr>\n",
       "    <tr>\n",
       "      <th>min</th>\n",
       "      <td>12786.93223</td>\n",
       "      <td>11888.595080</td>\n",
       "      <td>14517.907110</td>\n",
       "    </tr>\n",
       "    <tr>\n",
       "      <th>25%</th>\n",
       "      <td>12786.93223</td>\n",
       "      <td>12597.607145</td>\n",
       "      <td>14730.187633</td>\n",
       "    </tr>\n",
       "    <tr>\n",
       "      <th>50%</th>\n",
       "      <td>12786.93223</td>\n",
       "      <td>13306.619210</td>\n",
       "      <td>14942.468155</td>\n",
       "    </tr>\n",
       "    <tr>\n",
       "      <th>75%</th>\n",
       "      <td>12786.93223</td>\n",
       "      <td>13997.427140</td>\n",
       "      <td>15154.748677</td>\n",
       "    </tr>\n",
       "    <tr>\n",
       "      <th>max</th>\n",
       "      <td>12786.93223</td>\n",
       "      <td>14688.235070</td>\n",
       "      <td>15367.029200</td>\n",
       "    </tr>\n",
       "  </tbody>\n",
       "</table>\n",
       "</div>"
      ],
      "text/plain": [
       "       gdpPercap_1972  gdpPercap_1977  gdpPercap_1982\n",
       "count         1.00000        3.000000        2.000000\n",
       "mean      12786.93223    13294.483120    14942.468155\n",
       "std               NaN     1399.859451      600.419988\n",
       "min       12786.93223    11888.595080    14517.907110\n",
       "25%       12786.93223    12597.607145    14730.187633\n",
       "50%       12786.93223    13306.619210    14942.468155\n",
       "75%       12786.93223    13997.427140    15154.748677\n",
       "max       12786.93223    14688.235070    15367.029200"
      ]
     },
     "execution_count": 34,
     "metadata": {},
     "output_type": "execute_result"
    }
   ],
   "source": [
    "subset3[subset3>10000]"
   ]
  },
  {
   "cell_type": "markdown",
   "metadata": {},
   "source": [
    "- Get the value where the mask is true, and NaN (Not a Number) where it is false.\n",
    "- Useful because NaNs are ignored by operations like max, min, average, etc."
   ]
  },
  {
   "cell_type": "code",
   "execution_count": 35,
   "metadata": {},
   "outputs": [],
   "source": [
    "subset3[subset3>10000].head()\n",
    "subset3_stat = subset3[subset3>10000].describe()"
   ]
  },
  {
   "cell_type": "markdown",
   "metadata": {},
   "source": [
    "#### Exercise - Selection of Individual Values\n",
    "\n",
    "Assume Pandas has been imported into your notebook and the Gapminder GDP data for Europe has been loaded:"
   ]
  },
  {
   "cell_type": "code",
   "execution_count": 37,
   "metadata": {
    "collapsed": true
   },
   "outputs": [],
   "source": [
    "import pandas\n",
    "\n",
    "df = pandas.read_csv('data/gapminder_gdp_europe.csv', index_col='country')"
   ]
  },
  {
   "cell_type": "markdown",
   "metadata": {},
   "source": [
    "Write an expression to find the Per Capita GDP of Serbia in 2007."
   ]
  },
  {
   "cell_type": "code",
   "execution_count": 38,
   "metadata": {},
   "outputs": [
    {
     "data": {
      "text/plain": [
       "9786.5347139999994"
      ]
     },
     "execution_count": 38,
     "metadata": {},
     "output_type": "execute_result"
    }
   ],
   "source": [
    "df.loc['Serbia', 'gdpPercap_2007']"
   ]
  },
  {
   "cell_type": "markdown",
   "metadata": {},
   "source": [
    "#### Exercise - Extent of Slicing\n",
    "\n",
    "- Do the two statements below produce the same output?\n",
    "- Based on this, what rule governs what is included (or not) in numerical slices and named slices in Pandas?"
   ]
  },
  {
   "cell_type": "markdown",
   "metadata": {},
   "source": [
    "```Python\n",
    "print(data.iloc[0:2, 0:2])\n",
    "print(data.loc['Albania':'Belgium', 'gdpPercap_1952':'gdpPercap_1962'])\n",
    "```"
   ]
  },
  {
   "cell_type": "code",
   "execution_count": 39,
   "metadata": {},
   "outputs": [
    {
     "name": "stdout",
     "output_type": "stream",
     "text": [
      "         gdpPercap_1952  gdpPercap_1957\n",
      "country                                \n",
      "Albania     1601.056136     1942.284244\n",
      "Austria     6137.076492     8842.598030\n",
      "         gdpPercap_1952  gdpPercap_1957  gdpPercap_1962\n",
      "country                                                \n",
      "Albania     1601.056136     1942.284244     2312.888958\n",
      "Austria     6137.076492     8842.598030    10750.721110\n",
      "Belgium     8343.105127     9714.960623    10991.206760\n"
     ]
    }
   ],
   "source": [
    "print(df.iloc[0:2, 0:2])\n",
    "print(df.loc['Albania':'Belgium', 'gdpPercap_1952':'gdpPercap_1962'])"
   ]
  },
  {
   "cell_type": "markdown",
   "metadata": {},
   "source": [
    "#### Exercise -Reconstructing Data\n",
    "\n",
    "- Explain what each line in the following short program does: what is in first, second, etc.?"
   ]
  },
  {
   "cell_type": "code",
   "execution_count": 40,
   "metadata": {},
   "outputs": [
    {
     "name": "stdout",
     "output_type": "stream",
     "text": [
      "continent            Americas\n",
      "gdpPercap_1952        3081.96\n",
      "gdpPercap_1957        3907.16\n",
      "gdpPercap_1962        5108.34\n",
      "gdpPercap_1967        6929.28\n",
      "gdpPercap_1972        9123.04\n",
      "gdpPercap_1977        9770.52\n",
      "gdpPercap_1982          10331\n",
      "gdpPercap_1987        12281.3\n",
      "gdpPercap_1992        14641.6\n",
      "gdpPercap_1997        16999.4\n",
      "gdpPercap_2002        18855.6\n",
      "gdpPercap_2007        19328.7\n",
      "lifeExp_1952            64.28\n",
      "lifeExp_1957            68.54\n",
      "lifeExp_1962            69.62\n",
      "lifeExp_1967             71.1\n",
      "lifeExp_1972            72.16\n",
      "lifeExp_1977            73.44\n",
      "lifeExp_1982            73.75\n",
      "lifeExp_1987            74.63\n",
      "lifeExp_1992           73.911\n",
      "lifeExp_1997           74.917\n",
      "lifeExp_2002           77.778\n",
      "lifeExp_2007           78.746\n",
      "pop_1952            2.227e+06\n",
      "pop_1957             2.26e+06\n",
      "pop_1962          2.44805e+06\n",
      "pop_1967          2.64896e+06\n",
      "pop_1972          2.84713e+06\n",
      "pop_1977          3.08083e+06\n",
      "pop_1982            3.279e+06\n",
      "pop_1987          3.44447e+06\n",
      "pop_1992          3.58518e+06\n",
      "pop_1997          3.75943e+06\n",
      "pop_2002              3859606\n",
      "pop_2007              3942491\n",
      "Name: Puerto Rico, dtype: object\n"
     ]
    }
   ],
   "source": [
    "first = pandas.read_csv('data/gapminder_all.csv', index_col='country')\n",
    "second = first[first['continent'] == 'Americas']\n",
    "print(second.loc['Puerto Rico'])\n",
    "\n",
    "third = second.drop('Puerto Rico')\n",
    "#print(third.loc['Puerto Rico'])\n",
    "\n",
    "fourth = third.drop('continent', axis = 1)\n",
    "fourth.to_csv('result.csv')"
   ]
  },
  {
   "cell_type": "markdown",
   "metadata": {},
   "source": [
    "#### Exercise - Selecting Indices\n",
    "\n",
    "Explain in simple terms what `idxmin` and `idxmax` do in the short program below. When would you use these methods?"
   ]
  },
  {
   "cell_type": "code",
   "execution_count": 41,
   "metadata": {},
   "outputs": [
    {
     "name": "stdout",
     "output_type": "stream",
     "text": [
      "gdpPercap_1952    Bosnia and Herzegovina\n",
      "gdpPercap_1957    Bosnia and Herzegovina\n",
      "gdpPercap_1962    Bosnia and Herzegovina\n",
      "gdpPercap_1967    Bosnia and Herzegovina\n",
      "gdpPercap_1972    Bosnia and Herzegovina\n",
      "gdpPercap_1977    Bosnia and Herzegovina\n",
      "gdpPercap_1982                   Albania\n",
      "gdpPercap_1987                   Albania\n",
      "gdpPercap_1992                   Albania\n",
      "gdpPercap_1997                   Albania\n",
      "gdpPercap_2002                   Albania\n",
      "gdpPercap_2007                   Albania\n",
      "dtype: object\n",
      "gdpPercap_1952    Switzerland\n",
      "gdpPercap_1957    Switzerland\n",
      "gdpPercap_1962    Switzerland\n",
      "gdpPercap_1967    Switzerland\n",
      "gdpPercap_1972    Switzerland\n",
      "gdpPercap_1977    Switzerland\n",
      "gdpPercap_1982    Switzerland\n",
      "gdpPercap_1987         Norway\n",
      "gdpPercap_1992         Norway\n",
      "gdpPercap_1997         Norway\n",
      "gdpPercap_2002         Norway\n",
      "gdpPercap_2007         Norway\n",
      "dtype: object\n"
     ]
    }
   ],
   "source": [
    "data = pandas.read_csv('data/gapminder_gdp_europe.csv', index_col='country')\n",
    "print(data.idxmin())\n",
    "print(data.idxmax())"
   ]
  },
  {
   "cell_type": "markdown",
   "metadata": {},
   "source": [
    "#### Practice with Selection\n",
    "\n",
    "Assume Pandas has been imported and the Gapminder GDP data for Europe has been loaded. Write an expression to select each of the following:\n",
    "\n",
    "- GDP per capita for all countries in 1982.\n",
    "- GDP per capita for Denmark for all years.\n",
    "- GDP per capita for all countries for years after 1985.\n",
    "- GDP per capita for each country in 2007 as a multiple of GDP per capita for that country in 1952."
   ]
  },
  {
   "cell_type": "code",
   "execution_count": 113,
   "metadata": {},
   "outputs": [],
   "source": [
    "df = pandas.read_csv('data/gapminder_all.csv', index_col='country')\n",
    "\n",
    "df.head()\n",
    "df.gdpPercap_1982\n",
    "df.loc['Denmark']\n",
    "df.loc[:, 'gdpPercap_1985':]\n",
    "df_2007_multi_of_1952 = df['gdpPercap_2007']/df['gdpPercap_1952']"
   ]
  },
  {
   "cell_type": "markdown",
   "metadata": {},
   "source": [
    "### Keypoints\n",
    "\n",
    "- Use `DataFrame.iloc[..., ...]` to select values by integer location.\n",
    "- Use `:` on its own to mean all columns or all rows.\n",
    "- Select multiple columns or rows using `DataFrame.loc` and a named slice.\n",
    "- Result of slicing can be used in further operations.\n",
    "- Use comparisons to select data based on value.\n",
    "- Select values or NaN using a Boolean mask."
   ]
  },
  {
   "cell_type": "code",
   "execution_count": 108,
   "metadata": {},
   "outputs": [
    {
     "data": {
      "text/html": [
       "<div>\n",
       "<table border=\"1\" class=\"dataframe\">\n",
       "  <thead>\n",
       "    <tr style=\"text-align: right;\">\n",
       "      <th></th>\n",
       "      <th>X</th>\n",
       "      <th>Y</th>\n",
       "      <th>Z</th>\n",
       "      <th>ZZ</th>\n",
       "    </tr>\n",
       "  </thead>\n",
       "  <tbody>\n",
       "    <tr>\n",
       "      <th>a</th>\n",
       "      <td>1</td>\n",
       "      <td>12</td>\n",
       "      <td>22</td>\n",
       "      <td>0</td>\n",
       "    </tr>\n",
       "    <tr>\n",
       "      <th>b</th>\n",
       "      <td>20</td>\n",
       "      <td>29</td>\n",
       "      <td>38</td>\n",
       "      <td>0</td>\n",
       "    </tr>\n",
       "    <tr>\n",
       "      <th>c</th>\n",
       "      <td>24</td>\n",
       "      <td>34</td>\n",
       "      <td>44</td>\n",
       "      <td>0</td>\n",
       "    </tr>\n",
       "  </tbody>\n",
       "</table>\n",
       "</div>"
      ],
      "text/plain": [
       "    X   Y   Z  ZZ\n",
       "a   1  12  22   0\n",
       "b  20  29  38   0\n",
       "c  24  34  44   0"
      ]
     },
     "execution_count": 108,
     "metadata": {},
     "output_type": "execute_result"
    }
   ],
   "source": [
    "#A demonstration of how you can create and modify a dataframe\n",
    "\n",
    "import pandas\n",
    "\n",
    "#Create an empty df with one column 'X'\n",
    "df = pandas.DataFrame(columns = [\"X\"]) \n",
    "\n",
    "#Create an empty df with two columns 'X' and 'Y'\n",
    "df1 = pandas.DataFrame(columns = [\"X\", \"Y\"]) \n",
    "\n",
    "#Create an empty df with two columns 'X' and 'Y' and 1 row 'a'\n",
    "df2 = pandas.DataFrame(columns = [\"X\", \"Y\"], index=['a'])\n",
    "\n",
    "#Create an empty df with two columns 'X' and 'Y' and multiple rows 'a', 'b', 'c'\n",
    "df3 = pandas.DataFrame(columns = [\"X\", \"Y\"], index=['a', 'b', 'c'])\n",
    "\n",
    "#Create a df with two columns 'X' and 'Y' and multiple rows 'a', 'b', 'c', and initialize cells with 0s or 1s\n",
    "df4 = pandas.DataFrame(0, columns = [\"X\", \"Y\"], index=['a', 'b', 'c'])\n",
    "\n",
    "#insert a value for the row a\n",
    "df4.loc['a'] = 1 # this will add 1 for both the cells in the row 'a'\n",
    "df4.loc['a'] = [1, 12] # this will add 1 for the cell X and 12 for the cell Y in the row a\n",
    "\n",
    "#insert a value for the column X\n",
    "df4['X'] = 1 # this will add 1 for all the cells in the column 'X'\n",
    "df4['X'] = [1, 20, 24] # this will add different values in the cells of the column 'X'\n",
    "\n",
    "#insert a value in the soecific cell\n",
    "df4.loc['c', 'Y'] = 34\n",
    "\n",
    "# you can use iloc similarly\n",
    "df4.iloc[1, 1] = 29\n",
    "\n",
    "# initialize a new column with values\n",
    "df4['Z'] = [22, 38, 44]\n",
    "\n",
    "# add an empty column \n",
    "df4['ZZ'] = 0\n",
    "df4"
   ]
  },
  {
   "cell_type": "code",
   "execution_count": 117,
   "metadata": {},
   "outputs": [
    {
     "data": {
      "text/html": [
       "<div>\n",
       "<table border=\"1\" class=\"dataframe\">\n",
       "  <thead>\n",
       "    <tr style=\"text-align: right;\">\n",
       "      <th></th>\n",
       "      <th>X</th>\n",
       "      <th>Y</th>\n",
       "      <th>Z</th>\n",
       "      <th>ZZ</th>\n",
       "    </tr>\n",
       "  </thead>\n",
       "  <tbody>\n",
       "    <tr>\n",
       "      <th>a</th>\n",
       "      <td>1</td>\n",
       "      <td>12</td>\n",
       "      <td>22</td>\n",
       "      <td>0</td>\n",
       "    </tr>\n",
       "    <tr>\n",
       "      <th>b</th>\n",
       "      <td>20</td>\n",
       "      <td>29</td>\n",
       "      <td>38</td>\n",
       "      <td>0</td>\n",
       "    </tr>\n",
       "    <tr>\n",
       "      <th>c</th>\n",
       "      <td>24</td>\n",
       "      <td>34</td>\n",
       "      <td>44</td>\n",
       "      <td>0</td>\n",
       "    </tr>\n",
       "  </tbody>\n",
       "</table>\n",
       "</div>"
      ],
      "text/plain": [
       "    X   Y   Z  ZZ\n",
       "a   1  12  22   0\n",
       "b  20  29  38   0\n",
       "c  24  34  44   0"
      ]
     },
     "execution_count": 117,
     "metadata": {},
     "output_type": "execute_result"
    }
   ],
   "source": [
    "#sort data by first column\n",
    "df4.sort_index()\n",
    "\n",
    "#sort in reverse order\n",
    "df4.sort_index(ascending=False)\n",
    "\n",
    "#sort by a defined column\n",
    "df4.sort_values(by='Y')\n",
    "\n",
    "#sort by multiple columns\n",
    "df4.sort_values(by=['Y', 'Z']) \n",
    "\n",
    "# REMINDER: you can always pass multiple values for the commands in pandas using [] brackets"
   ]
  },
  {
   "cell_type": "code",
   "execution_count": 121,
   "metadata": {},
   "outputs": [
    {
     "data": {
      "text/html": [
       "<div>\n",
       "<table border=\"1\" class=\"dataframe\">\n",
       "  <thead>\n",
       "    <tr style=\"text-align: right;\">\n",
       "      <th></th>\n",
       "      <th>X</th>\n",
       "      <th>Y</th>\n",
       "      <th>Z</th>\n",
       "      <th>ZZ</th>\n",
       "    </tr>\n",
       "  </thead>\n",
       "  <tbody>\n",
       "    <tr>\n",
       "      <th>a</th>\n",
       "      <td>1</td>\n",
       "      <td>12</td>\n",
       "      <td>22</td>\n",
       "      <td>col1</td>\n",
       "    </tr>\n",
       "    <tr>\n",
       "      <th>b</th>\n",
       "      <td>20</td>\n",
       "      <td>29</td>\n",
       "      <td>38</td>\n",
       "      <td>col2</td>\n",
       "    </tr>\n",
       "    <tr>\n",
       "      <th>c</th>\n",
       "      <td>24</td>\n",
       "      <td>34</td>\n",
       "      <td>44</td>\n",
       "      <td>col3</td>\n",
       "    </tr>\n",
       "  </tbody>\n",
       "</table>\n",
       "</div>"
      ],
      "text/plain": [
       "    X   Y   Z    ZZ\n",
       "a   1  12  22  col1\n",
       "b  20  29  38  col2\n",
       "c  24  34  44  col3"
      ]
     },
     "execution_count": 121,
     "metadata": {},
     "output_type": "execute_result"
    }
   ],
   "source": [
    "#create a mask for values more than 1 in the column X\n",
    "df4[df4['X']>1]\n",
    "\n",
    "#masking by multiple values\n",
    "df4[df4['X']>1 & (df4['Y']<30)]\n",
    "\n",
    "#check null values\n",
    "df4.isnull()\n",
    "\n",
    "#replacing values\n",
    "df5 = df4.replace(0, '66')\n",
    "df5['ZZ'] = ['col1', 'col2', 'col3']\n",
    "df5"
   ]
  },
  {
   "cell_type": "code",
   "execution_count": 140,
   "metadata": {},
   "outputs": [],
   "source": [
    "df6 = df5.set_index('ZZ')"
   ]
  },
  {
   "cell_type": "code",
   "execution_count": 138,
   "metadata": {},
   "outputs": [
    {
     "data": {
      "text/plain": [
       "X\n",
       "1     12\n",
       "20    29\n",
       "24    34\n",
       "Name: Y, dtype: int64"
      ]
     },
     "execution_count": 138,
     "metadata": {},
     "output_type": "execute_result"
    }
   ],
   "source": [
    "#groupby\n",
    "\n",
    "df6 = df5.groupby('X')['Y'].mean() #group by the column 'X' and get a mean of the values in 'Y'\n",
    "df6"
   ]
  },
  {
   "cell_type": "code",
   "execution_count": 130,
   "metadata": {},
   "outputs": [
    {
     "data": {
      "text/html": [
       "<div>\n",
       "<table border=\"1\" class=\"dataframe\">\n",
       "  <thead>\n",
       "    <tr style=\"text-align: right;\">\n",
       "      <th></th>\n",
       "      <th>Gene</th>\n",
       "      <th>Length</th>\n",
       "    </tr>\n",
       "  </thead>\n",
       "  <tbody>\n",
       "    <tr>\n",
       "      <th>col1</th>\n",
       "      <td>gene1</td>\n",
       "      <td>299</td>\n",
       "    </tr>\n",
       "    <tr>\n",
       "      <th>col2</th>\n",
       "      <td>gene2</td>\n",
       "      <td>599</td>\n",
       "    </tr>\n",
       "    <tr>\n",
       "      <th>col3</th>\n",
       "      <td>gene3</td>\n",
       "      <td>678</td>\n",
       "    </tr>\n",
       "  </tbody>\n",
       "</table>\n",
       "</div>"
      ],
      "text/plain": [
       "       Gene  Length\n",
       "col1  gene1     299\n",
       "col2  gene2     599\n",
       "col3  gene3     678"
      ]
     },
     "execution_count": 130,
     "metadata": {},
     "output_type": "execute_result"
    }
   ],
   "source": [
    "# create a new dataframe ndf\n",
    "\n",
    "ndf = pandas.DataFrame([['gene1', 299], ['gene2', 599], ['gene3', 678]], index=['col1', 'col2', 'col3'], columns=['Gene', 'Length'])\n",
    "ndf"
   ]
  },
  {
   "cell_type": "code",
   "execution_count": 141,
   "metadata": {},
   "outputs": [
    {
     "data": {
      "text/html": [
       "<div>\n",
       "<table border=\"1\" class=\"dataframe\">\n",
       "  <thead>\n",
       "    <tr style=\"text-align: right;\">\n",
       "      <th></th>\n",
       "      <th>Gene</th>\n",
       "      <th>Length</th>\n",
       "      <th>X</th>\n",
       "      <th>Y</th>\n",
       "      <th>Z</th>\n",
       "    </tr>\n",
       "  </thead>\n",
       "  <tbody>\n",
       "    <tr>\n",
       "      <th>col1</th>\n",
       "      <td>NaN</td>\n",
       "      <td>NaN</td>\n",
       "      <td>1.0</td>\n",
       "      <td>12.0</td>\n",
       "      <td>22.0</td>\n",
       "    </tr>\n",
       "    <tr>\n",
       "      <th>col2</th>\n",
       "      <td>NaN</td>\n",
       "      <td>NaN</td>\n",
       "      <td>20.0</td>\n",
       "      <td>29.0</td>\n",
       "      <td>38.0</td>\n",
       "    </tr>\n",
       "    <tr>\n",
       "      <th>col3</th>\n",
       "      <td>NaN</td>\n",
       "      <td>NaN</td>\n",
       "      <td>24.0</td>\n",
       "      <td>34.0</td>\n",
       "      <td>44.0</td>\n",
       "    </tr>\n",
       "    <tr>\n",
       "      <th>col1</th>\n",
       "      <td>gene1</td>\n",
       "      <td>299.0</td>\n",
       "      <td>NaN</td>\n",
       "      <td>NaN</td>\n",
       "      <td>NaN</td>\n",
       "    </tr>\n",
       "    <tr>\n",
       "      <th>col2</th>\n",
       "      <td>gene2</td>\n",
       "      <td>599.0</td>\n",
       "      <td>NaN</td>\n",
       "      <td>NaN</td>\n",
       "      <td>NaN</td>\n",
       "    </tr>\n",
       "    <tr>\n",
       "      <th>col3</th>\n",
       "      <td>gene3</td>\n",
       "      <td>678.0</td>\n",
       "      <td>NaN</td>\n",
       "      <td>NaN</td>\n",
       "      <td>NaN</td>\n",
       "    </tr>\n",
       "  </tbody>\n",
       "</table>\n",
       "</div>"
      ],
      "text/plain": [
       "       Gene  Length     X     Y     Z\n",
       "col1    NaN     NaN   1.0  12.0  22.0\n",
       "col2    NaN     NaN  20.0  29.0  38.0\n",
       "col3    NaN     NaN  24.0  34.0  44.0\n",
       "col1  gene1   299.0   NaN   NaN   NaN\n",
       "col2  gene2   599.0   NaN   NaN   NaN\n",
       "col3  gene3   678.0   NaN   NaN   NaN"
      ]
     },
     "execution_count": 141,
     "metadata": {},
     "output_type": "execute_result"
    }
   ],
   "source": [
    "# merge df6 and ndf\n",
    "\n",
    "df6_ndf_1 = pandas.concat([df6, ndf]) \n",
    "df6_ndf_1\n",
    "# by default the concatanation of the dataframe happens in the axis 0, or rows"
   ]
  },
  {
   "cell_type": "code",
   "execution_count": 142,
   "metadata": {},
   "outputs": [
    {
     "data": {
      "text/html": [
       "<div>\n",
       "<table border=\"1\" class=\"dataframe\">\n",
       "  <thead>\n",
       "    <tr style=\"text-align: right;\">\n",
       "      <th></th>\n",
       "      <th>X</th>\n",
       "      <th>Y</th>\n",
       "      <th>Z</th>\n",
       "      <th>Gene</th>\n",
       "      <th>Length</th>\n",
       "    </tr>\n",
       "    <tr>\n",
       "      <th>ZZ</th>\n",
       "      <th></th>\n",
       "      <th></th>\n",
       "      <th></th>\n",
       "      <th></th>\n",
       "      <th></th>\n",
       "    </tr>\n",
       "  </thead>\n",
       "  <tbody>\n",
       "    <tr>\n",
       "      <th>col1</th>\n",
       "      <td>1</td>\n",
       "      <td>12</td>\n",
       "      <td>22</td>\n",
       "      <td>gene1</td>\n",
       "      <td>299</td>\n",
       "    </tr>\n",
       "    <tr>\n",
       "      <th>col2</th>\n",
       "      <td>20</td>\n",
       "      <td>29</td>\n",
       "      <td>38</td>\n",
       "      <td>gene2</td>\n",
       "      <td>599</td>\n",
       "    </tr>\n",
       "    <tr>\n",
       "      <th>col3</th>\n",
       "      <td>24</td>\n",
       "      <td>34</td>\n",
       "      <td>44</td>\n",
       "      <td>gene3</td>\n",
       "      <td>678</td>\n",
       "    </tr>\n",
       "  </tbody>\n",
       "</table>\n",
       "</div>"
      ],
      "text/plain": [
       "       X   Y   Z   Gene  Length\n",
       "ZZ                             \n",
       "col1   1  12  22  gene1     299\n",
       "col2  20  29  38  gene2     599\n",
       "col3  24  34  44  gene3     678"
      ]
     },
     "execution_count": 142,
     "metadata": {},
     "output_type": "execute_result"
    }
   ],
   "source": [
    "# merge df6 and ndf using the column axis (axis=1)\n",
    "\n",
    "df6_ndf_2 = pandas.concat([df6, ndf], axis=1)\n",
    "df6_ndf_2\n",
    "\n",
    "# pandas "
   ]
  },
  {
   "cell_type": "code",
   "execution_count": 143,
   "metadata": {},
   "outputs": [
    {
     "data": {
      "text/html": [
       "<div>\n",
       "<table border=\"1\" class=\"dataframe\">\n",
       "  <thead>\n",
       "    <tr style=\"text-align: right;\">\n",
       "      <th></th>\n",
       "      <th>Gene</th>\n",
       "      <th>Length</th>\n",
       "      <th>X</th>\n",
       "      <th>Y</th>\n",
       "      <th>Z</th>\n",
       "    </tr>\n",
       "  </thead>\n",
       "  <tbody>\n",
       "    <tr>\n",
       "      <th>col1</th>\n",
       "      <td>gene1</td>\n",
       "      <td>299</td>\n",
       "      <td>1</td>\n",
       "      <td>12</td>\n",
       "      <td>22</td>\n",
       "    </tr>\n",
       "    <tr>\n",
       "      <th>col2</th>\n",
       "      <td>gene2</td>\n",
       "      <td>599</td>\n",
       "      <td>20</td>\n",
       "      <td>29</td>\n",
       "      <td>38</td>\n",
       "    </tr>\n",
       "    <tr>\n",
       "      <th>col3</th>\n",
       "      <td>gene3</td>\n",
       "      <td>678</td>\n",
       "      <td>24</td>\n",
       "      <td>34</td>\n",
       "      <td>44</td>\n",
       "    </tr>\n",
       "  </tbody>\n",
       "</table>\n",
       "</div>"
      ],
      "text/plain": [
       "       Gene  Length   X   Y   Z\n",
       "col1  gene1     299   1  12  22\n",
       "col2  gene2     599  20  29  38\n",
       "col3  gene3     678  24  34  44"
      ]
     },
     "execution_count": 143,
     "metadata": {},
     "output_type": "execute_result"
    }
   ],
   "source": [
    "# Optionally use join\n",
    "\n",
    "df6_ndf_3 = ndf.join(df6)\n",
    "df6_ndf_3"
   ]
  },
  {
   "cell_type": "code",
   "execution_count": null,
   "metadata": {
    "collapsed": true
   },
   "outputs": [],
   "source": [
    "# tryout the commands from your cheatsheets here\n",
    "\n"
   ]
  }
 ],
 "metadata": {
  "kernelspec": {
   "display_name": "Python 3",
   "language": "python",
   "name": "python3"
  },
  "language_info": {
   "codemirror_mode": {
    "name": "ipython",
    "version": 3
   },
   "file_extension": ".py",
   "mimetype": "text/x-python",
   "name": "python",
   "nbconvert_exporter": "python",
   "pygments_lexer": "ipython3",
   "version": "3.6.9"
  }
 },
 "nbformat": 4,
 "nbformat_minor": 2
}
